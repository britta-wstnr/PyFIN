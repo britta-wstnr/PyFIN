{
 "cells": [
  {
   "cell_type": "markdown",
   "metadata": {
    "nbpresent": {
     "id": "395da34d-6da3-482e-8b98-6f7d2a7b8ef2"
    }
   },
   "source": [
    "# NumPy basics"
   ]
  },
  {
   "cell_type": "code",
   "execution_count": 2,
   "metadata": {
    "collapsed": true,
    "nbpresent": {
     "id": "d96bde4c-fc11-4ac3-8f67-ea87f53318d9"
    }
   },
   "outputs": [],
   "source": [
    "import numpy as np"
   ]
  },
  {
   "cell_type": "markdown",
   "metadata": {
    "nbpresent": {
     "id": "42658da6-e2fc-46b5-bb18-78d280f1cd84"
    }
   },
   "source": [
    "## What is NumPy?\n",
    "\n",
    "The [NumPy homepage](www.numpy.org) explains: \n",
    "\n",
    "* NumPy is a fundamental package for scientific computing in Python\n",
    "* it has a powerful N-dimensional array object: ``np.array``"
   ]
  },
  {
   "cell_type": "markdown",
   "metadata": {},
   "source": [
    "## creating a numpy array\n",
    "\n",
    "Create a 3 x 3  array:"
   ]
  },
  {
   "cell_type": "code",
   "execution_count": 93,
   "metadata": {
    "collapsed": false
   },
   "outputs": [
    {
     "data": {
      "text/plain": [
       "(3, 3)"
      ]
     },
     "execution_count": 93,
     "metadata": {},
     "output_type": "execute_result"
    }
   ],
   "source": [
    "foo_a = np.array([[1., 2., 3.], [4., 5., 6.], [7., 8., 9.]])\n",
    "\n",
    "foo_a.shape  # return the dimensions of the array"
   ]
  },
  {
   "cell_type": "code",
   "execution_count": 94,
   "metadata": {
    "collapsed": false
   },
   "outputs": [
    {
     "name": "stdout",
     "output_type": "stream",
     "text": [
      "[[ 1.  2.  3.]\n",
      " [ 4.  5.  6.]\n",
      " [ 7.  8.  9.]]\n"
     ]
    }
   ],
   "source": [
    "print foo_a"
   ]
  },
  {
   "cell_type": "markdown",
   "metadata": {},
   "source": [
    "Create a 3 x 3 array with random numbers, drawn from a uniform distribution over ``[0, 1)``:"
   ]
  },
  {
   "cell_type": "code",
   "execution_count": 58,
   "metadata": {
    "collapsed": false
   },
   "outputs": [
    {
     "name": "stdout",
     "output_type": "stream",
     "text": [
      "[[ 0.42743052  0.39807618  0.60244859]\n",
      " [ 0.81798928  0.53784336  0.78194494]\n",
      " [ 0.03345745  0.00732675  0.07813795]]\n"
     ]
    }
   ],
   "source": [
    "foo_rand = np.random.rand(3, 3)\n",
    "print foo_rand"
   ]
  },
  {
   "cell_type": "markdown",
   "metadata": {},
   "source": [
    "## indexing\n",
    "\n",
    "Keep in mind: Python is **zero-indexed**. \n",
    "Show the first row of the array:"
   ]
  },
  {
   "cell_type": "code",
   "execution_count": 25,
   "metadata": {
    "collapsed": false
   },
   "outputs": [
    {
     "data": {
      "text/plain": [
       "array([ 70.,  20.,  30.])"
      ]
     },
     "execution_count": 25,
     "metadata": {},
     "output_type": "execute_result"
    }
   ],
   "source": [
    "foo_a[0, :]"
   ]
  },
  {
   "cell_type": "markdown",
   "metadata": {},
   "source": [
    "Show the last column:"
   ]
  },
  {
   "cell_type": "code",
   "execution_count": 27,
   "metadata": {
    "collapsed": false
   },
   "outputs": [
    {
     "data": {
      "text/plain": [
       "array([ 30.,  60.,  90.])"
      ]
     },
     "execution_count": 27,
     "metadata": {},
     "output_type": "execute_result"
    }
   ],
   "source": [
    "foo_a[:, -1]"
   ]
  },
  {
   "cell_type": "markdown",
   "metadata": {
    "nbpresent": {
     "id": "e1f11a83-d04c-477a-9274-bde97f658e9f"
    }
   },
   "source": [
    "## slicing, viewing, copying"
   ]
  },
  {
   "cell_type": "markdown",
   "metadata": {
    "nbpresent": {
     "id": "466a76da-87c2-4f7c-b83c-fa5195bb7197"
    }
   },
   "source": [
    "### reference\n",
    "Simple assignments do not copy the object, but create a reference to the original object: ``foo_a`` and ``foo_b`` are different names for the same object."
   ]
  },
  {
   "cell_type": "code",
   "execution_count": 4,
   "metadata": {
    "collapsed": false,
    "nbpresent": {
     "id": "699dd375-84ce-4678-ab20-76903bd7cdb7"
    }
   },
   "outputs": [
    {
     "data": {
      "text/plain": [
       "array([[ 1.,  2.,  3.],\n",
       "       [ 4.,  5.,  6.],\n",
       "       [ 7.,  8.,  9.]])"
      ]
     },
     "execution_count": 4,
     "metadata": {},
     "output_type": "execute_result"
    }
   ],
   "source": [
    "foo_b = foo_a\n",
    "foo_b"
   ]
  },
  {
   "cell_type": "code",
   "execution_count": 5,
   "metadata": {
    "collapsed": false,
    "nbpresent": {
     "id": "6fdda6f6-4b5a-43d0-8de0-831fe187b686"
    }
   },
   "outputs": [
    {
     "data": {
      "text/plain": [
       "True"
      ]
     },
     "execution_count": 5,
     "metadata": {},
     "output_type": "execute_result"
    }
   ],
   "source": [
    "foo_b is foo_a"
   ]
  },
  {
   "cell_type": "markdown",
   "metadata": {
    "nbpresent": {
     "id": "ac8a9824-10df-4d0c-9d93-df06a044fe3f"
    }
   },
   "source": [
    "### slicing"
   ]
  },
  {
   "cell_type": "code",
   "execution_count": 6,
   "metadata": {
    "collapsed": false,
    "nbpresent": {
     "id": "1256630d-d487-4263-bd04-99c97fb7a6d2"
    }
   },
   "outputs": [
    {
     "data": {
      "text/plain": [
       "array([ 1.,  2.,  3.])"
      ]
     },
     "execution_count": 6,
     "metadata": {},
     "output_type": "execute_result"
    }
   ],
   "source": [
    "b_slice = foo_b[0, :]\n",
    "b_slice"
   ]
  },
  {
   "cell_type": "markdown",
   "metadata": {
    "nbpresent": {
     "id": "1d8a771e-0b86-49e3-b226-00540739cc93"
    }
   },
   "source": [
    "``b_slice`` is called a _view_. It is a new object but shares all data with ``foo_b``."
   ]
  },
  {
   "cell_type": "code",
   "execution_count": 7,
   "metadata": {
    "collapsed": false,
    "nbpresent": {
     "id": "3e6281c9-6f5c-46b9-97ca-00fef07a43df"
    }
   },
   "outputs": [
    {
     "data": {
      "text/plain": [
       "array([ 7.,  2.,  3.])"
      ]
     },
     "execution_count": 7,
     "metadata": {},
     "output_type": "execute_result"
    }
   ],
   "source": [
    "b_slice[0] = 7.\n",
    "b_slice"
   ]
  },
  {
   "cell_type": "code",
   "execution_count": 8,
   "metadata": {
    "collapsed": false,
    "nbpresent": {
     "id": "3cae8888-07c7-45bd-94a4-d6ce89f2e49e"
    }
   },
   "outputs": [
    {
     "data": {
      "text/plain": [
       "array([[ 7.,  2.,  3.],\n",
       "       [ 4.,  5.,  6.],\n",
       "       [ 7.,  8.,  9.]])"
      ]
     },
     "execution_count": 8,
     "metadata": {},
     "output_type": "execute_result"
    }
   ],
   "source": [
    "foo_b"
   ]
  },
  {
   "cell_type": "markdown",
   "metadata": {
    "nbpresent": {
     "id": "ae96f938-c02f-470b-b642-46f300140e2f"
    }
   },
   "source": [
    "Any changes made to the view are also reflected in the full object. This makes looping over objects easy, as one don't have to worry about indices:"
   ]
  },
  {
   "cell_type": "code",
   "execution_count": 9,
   "metadata": {
    "collapsed": false,
    "nbpresent": {
     "id": "6a763c72-1a4c-43b5-b6d9-feab5757de44"
    }
   },
   "outputs": [
    {
     "name": "stdout",
     "output_type": "stream",
     "text": [
      "[[ 70.  20.  30.]\n",
      " [  4.   5.   6.]\n",
      " [  7.   8.   9.]]\n",
      "[[ 70.  20.  30.]\n",
      " [ 40.  50.  60.]\n",
      " [  7.   8.   9.]]\n",
      "[[ 70.  20.  30.]\n",
      " [ 40.  50.  60.]\n",
      " [ 70.  80.  90.]]\n"
     ]
    }
   ],
   "source": [
    "for row in foo_b:\n",
    "    row *= 10.\n",
    "    print foo_b"
   ]
  },
  {
   "cell_type": "markdown",
   "metadata": {
    "nbpresent": {
     "id": "03b546bd-47d5-4911-b2cf-3a75aa65a199"
    }
   },
   "source": [
    "and, since ``foo_b`` is a reference to ``foo_a``:"
   ]
  },
  {
   "cell_type": "code",
   "execution_count": 12,
   "metadata": {
    "collapsed": false,
    "nbpresent": {
     "id": "c4a4a335-ab96-47d7-be8f-e729a78b210a"
    }
   },
   "outputs": [
    {
     "data": {
      "text/plain": [
       "array([[ 70.,  20.,  30.],\n",
       "       [ 40.,  50.,  60.],\n",
       "       [ 70.,  80.,  90.]])"
      ]
     },
     "execution_count": 12,
     "metadata": {},
     "output_type": "execute_result"
    }
   ],
   "source": [
    "foo_a"
   ]
  },
  {
   "cell_type": "markdown",
   "metadata": {
    "nbpresent": {
     "id": "8331d8e7-516c-44fa-aa41-c768f442c07b"
    }
   },
   "source": [
    "### copying"
   ]
  },
  {
   "cell_type": "code",
   "execution_count": 13,
   "metadata": {
    "collapsed": false,
    "nbpresent": {
     "id": "7c934d22-92e1-4127-8b00-2bceab1286d3"
    }
   },
   "outputs": [
    {
     "data": {
      "text/plain": [
       "array([[ 70.,  20.,  30.],\n",
       "       [ 40.,  50.,  60.],\n",
       "       [ 70.,  80.,  90.]])"
      ]
     },
     "execution_count": 13,
     "metadata": {},
     "output_type": "execute_result"
    }
   ],
   "source": [
    "foo_c = foo_a.copy()\n",
    "foo_c"
   ]
  },
  {
   "cell_type": "code",
   "execution_count": 14,
   "metadata": {
    "collapsed": false,
    "nbpresent": {
     "id": "3a72c9af-b5d4-4b5c-b61f-116aa58bfe6c"
    }
   },
   "outputs": [
    {
     "data": {
      "text/plain": [
       "False"
      ]
     },
     "execution_count": 14,
     "metadata": {},
     "output_type": "execute_result"
    }
   ],
   "source": [
    "foo_c is foo_a"
   ]
  },
  {
   "cell_type": "markdown",
   "metadata": {
    "nbpresent": {
     "id": "5633be34-ef27-4a28-a864-261fcbebb97f"
    }
   },
   "source": [
    "``copy()`` creates a deep copy of ``foo_a``, i.e., a new object containing a copy of the content of ``foo_a``. Making changes to this copy does not change the original object:"
   ]
  },
  {
   "cell_type": "code",
   "execution_count": 15,
   "metadata": {
    "collapsed": false,
    "nbpresent": {
     "id": "3393ab89-afa8-4df0-b1bc-2aeabc07f1fd"
    }
   },
   "outputs": [
    {
     "data": {
      "text/plain": [
       "array([[ 70.,   1.,  30.],\n",
       "       [ 40.,  50.,  60.],\n",
       "       [ 70.,  80.,  90.]])"
      ]
     },
     "execution_count": 15,
     "metadata": {},
     "output_type": "execute_result"
    }
   ],
   "source": [
    "foo_c[0, 1] = 1.\n",
    "foo_c"
   ]
  },
  {
   "cell_type": "code",
   "execution_count": 16,
   "metadata": {
    "collapsed": false,
    "nbpresent": {
     "id": "562a6d66-2ea1-4de9-8dc6-2cd9698f1661"
    }
   },
   "outputs": [
    {
     "data": {
      "text/plain": [
       "array([[ 70.,  20.,  30.],\n",
       "       [ 40.,  50.,  60.],\n",
       "       [ 70.,  80.,  90.]])"
      ]
     },
     "execution_count": 16,
     "metadata": {},
     "output_type": "execute_result"
    }
   ],
   "source": [
    "foo_a"
   ]
  },
  {
   "cell_type": "markdown",
   "metadata": {
    "collapsed": true
   },
   "source": [
    "## stacking arrays"
   ]
  },
  {
   "cell_type": "code",
   "execution_count": 19,
   "metadata": {
    "collapsed": false
   },
   "outputs": [
    {
     "data": {
      "text/plain": [
       "array([[ 7.,  2.,  3.],\n",
       "       [ 4.,  5.,  6.],\n",
       "       [ 7.,  8.,  9.]])"
      ]
     },
     "execution_count": 19,
     "metadata": {},
     "output_type": "execute_result"
    }
   ],
   "source": [
    "foo_d = foo_a.copy() / 10\n",
    "foo_d"
   ]
  },
  {
   "cell_type": "markdown",
   "metadata": {},
   "source": [
    "stack the array ``foo_a`` and ``foo_d`` **horizontally**:"
   ]
  },
  {
   "cell_type": "code",
   "execution_count": 22,
   "metadata": {
    "collapsed": false
   },
   "outputs": [
    {
     "data": {
      "text/plain": [
       "array([[ 70.,  20.,  30.,   7.,   2.,   3.],\n",
       "       [ 40.,  50.,  60.,   4.,   5.,   6.],\n",
       "       [ 70.,  80.,  90.,   7.,   8.,   9.]])"
      ]
     },
     "execution_count": 22,
     "metadata": {},
     "output_type": "execute_result"
    }
   ],
   "source": [
    "stacked = np.hstack((foo_a, foo_d))\n",
    "stacked"
   ]
  },
  {
   "cell_type": "markdown",
   "metadata": {},
   "source": [
    "stack the array ``foo_a`` and ``foo_d`` **vertically**:"
   ]
  },
  {
   "cell_type": "code",
   "execution_count": 79,
   "metadata": {
    "collapsed": false
   },
   "outputs": [
    {
     "data": {
      "text/plain": [
       "array([[ 70.,  20.,  30.],\n",
       "       [ 40.,  50.,  60.],\n",
       "       [ 70.,  80.,  90.],\n",
       "       [  7.,   2.,   3.],\n",
       "       [  4.,   5.,   6.],\n",
       "       [  7.,   8.,   9.]])"
      ]
     },
     "execution_count": 79,
     "metadata": {},
     "output_type": "execute_result"
    }
   ],
   "source": [
    "stacked = np.vstack((foo_a, foo_d))\n",
    "stacked"
   ]
  },
  {
   "cell_type": "markdown",
   "metadata": {},
   "source": [
    "### doing the opposite: splitting\n",
    "split the array vertically in 2 equally sized arrays:"
   ]
  },
  {
   "cell_type": "code",
   "execution_count": 87,
   "metadata": {
    "collapsed": false
   },
   "outputs": [
    {
     "data": {
      "text/plain": [
       "list"
      ]
     },
     "execution_count": 87,
     "metadata": {},
     "output_type": "execute_result"
    }
   ],
   "source": [
    "foo_x = np.vsplit(stacked, 2)\n",
    "\n",
    "# what is the returned object?\n",
    "type(foo_x)"
   ]
  },
  {
   "cell_type": "code",
   "execution_count": 88,
   "metadata": {
    "collapsed": false
   },
   "outputs": [
    {
     "data": {
      "text/plain": [
       "2"
      ]
     },
     "execution_count": 88,
     "metadata": {},
     "output_type": "execute_result"
    }
   ],
   "source": [
    "len(foo_x)  # how long is the list?"
   ]
  },
  {
   "cell_type": "code",
   "execution_count": 90,
   "metadata": {
    "collapsed": false
   },
   "outputs": [
    {
     "name": "stdout",
     "output_type": "stream",
     "text": [
      "[[ 70.  20.  30.]\n",
      " [ 40.  50.  60.]\n",
      " [ 70.  80.  90.]]\n",
      "[[ 7.  2.  3.]\n",
      " [ 4.  5.  6.]\n",
      " [ 7.  8.  9.]]\n"
     ]
    }
   ],
   "source": [
    "print foo_x[0]\n",
    "print foo_x[1]"
   ]
  },
  {
   "cell_type": "markdown",
   "metadata": {},
   "source": [
    "## simple operations on numpy arrays\n",
    "\n",
    "### minimum and maximum"
   ]
  },
  {
   "cell_type": "code",
   "execution_count": 41,
   "metadata": {
    "collapsed": false
   },
   "outputs": [
    {
     "name": "stdout",
     "output_type": "stream",
     "text": [
      "[[ 70.  20.  30.]\n",
      " [ 40.  50.  60.]\n",
      " [ 70.  80.  90.]]\n",
      "20.0\n",
      "90.0\n"
     ]
    }
   ],
   "source": [
    "print foo_a  # to have a point of reference\n",
    "print foo_a.min()\n",
    "print foo_a.max()"
   ]
  },
  {
   "cell_type": "markdown",
   "metadata": {},
   "source": [
    "### sum"
   ]
  },
  {
   "cell_type": "code",
   "execution_count": 47,
   "metadata": {
    "collapsed": false
   },
   "outputs": [
    {
     "data": {
      "text/plain": [
       "510.0"
      ]
     },
     "execution_count": 47,
     "metadata": {},
     "output_type": "execute_result"
    }
   ],
   "source": [
    "foo_a.sum()"
   ]
  },
  {
   "cell_type": "markdown",
   "metadata": {},
   "source": [
    "print the sum per rows and per columns:"
   ]
  },
  {
   "cell_type": "code",
   "execution_count": 43,
   "metadata": {
    "collapsed": false
   },
   "outputs": [
    {
     "name": "stdout",
     "output_type": "stream",
     "text": [
      "[ 180.  150.  180.]\n",
      "[ 120.  150.  240.]\n"
     ]
    }
   ],
   "source": [
    "print foo_a.sum(axis=0)\n",
    "print foo_a.sum(axis=1)"
   ]
  },
  {
   "cell_type": "markdown",
   "metadata": {},
   "source": [
    "### cumulative sum"
   ]
  },
  {
   "cell_type": "code",
   "execution_count": 46,
   "metadata": {
    "collapsed": false
   },
   "outputs": [
    {
     "data": {
      "text/plain": [
       "array([  70.,   90.,  120.,  160.,  210.,  270.,  340.,  420.,  510.])"
      ]
     },
     "execution_count": 46,
     "metadata": {},
     "output_type": "execute_result"
    }
   ],
   "source": [
    "foo_a.cumsum()"
   ]
  },
  {
   "cell_type": "markdown",
   "metadata": {},
   "source": [
    "### mean"
   ]
  },
  {
   "cell_type": "code",
   "execution_count": 48,
   "metadata": {
    "collapsed": false
   },
   "outputs": [
    {
     "data": {
      "text/plain": [
       "56.666666666666664"
      ]
     },
     "execution_count": 48,
     "metadata": {},
     "output_type": "execute_result"
    }
   ],
   "source": [
    "foo_a.mean()"
   ]
  },
  {
   "cell_type": "code",
   "execution_count": 51,
   "metadata": {
    "collapsed": false
   },
   "outputs": [
    {
     "data": {
      "text/plain": [
       "56.666666666666664"
      ]
     },
     "execution_count": 51,
     "metadata": {},
     "output_type": "execute_result"
    }
   ],
   "source": [
    "np.mean(foo_a)"
   ]
  },
  {
   "cell_type": "markdown",
   "metadata": {},
   "source": [
    "## Excursus: don't import *"
   ]
  },
  {
   "cell_type": "code",
   "execution_count": 52,
   "metadata": {
    "collapsed": false
   },
   "outputs": [
    {
     "name": "stdout",
     "output_type": "stream",
     "text": [
      "[ 180.  150.  180.]\n",
      "510.0\n"
     ]
    }
   ],
   "source": [
    "print sum(foo_a)\n",
    "print np.sum(foo_a)"
   ]
  },
  {
   "cell_type": "code",
   "execution_count": 55,
   "metadata": {
    "collapsed": true
   },
   "outputs": [],
   "source": [
    "from numpy import *"
   ]
  },
  {
   "cell_type": "code",
   "execution_count": 56,
   "metadata": {
    "collapsed": false
   },
   "outputs": [
    {
     "name": "stdout",
     "output_type": "stream",
     "text": [
      "510.0\n"
     ]
    }
   ],
   "source": [
    "print sum(foo_a)"
   ]
  },
  {
   "cell_type": "markdown",
   "metadata": {},
   "source": [
    "_Explanation_: after importing * from numpy, Python's ``sum()`` is now overwritten by numpy's ``sum()``, which works differently."
   ]
  },
  {
   "cell_type": "code",
   "execution_count": null,
   "metadata": {
    "collapsed": true
   },
   "outputs": [],
   "source": []
  }
 ],
 "metadata": {
  "kernelspec": {
   "display_name": "Python [Root]",
   "language": "python",
   "name": "Python [Root]"
  },
  "language_info": {
   "codemirror_mode": {
    "name": "ipython",
    "version": 2
   },
   "file_extension": ".py",
   "mimetype": "text/x-python",
   "name": "python",
   "nbconvert_exporter": "python",
   "pygments_lexer": "ipython2",
   "version": "2.7.12"
  },
  "nbpresent": {
   "slides": {
    "08b323bc-23f2-499b-9339-0ecef550867f": {
     "id": "08b323bc-23f2-499b-9339-0ecef550867f",
     "prev": "4d07d819-db14-4eac-8bdd-bdddbcc01dfd",
     "regions": {
      "0415c42d-121d-448a-8c59-917d3af6a722": {
       "attrs": {
        "height": 0.8,
        "width": 0.8,
        "x": 0.1,
        "y": 0.1
       },
       "content": {
        "cell": "466a76da-87c2-4f7c-b83c-fa5195bb7197",
        "part": "whole"
       },
       "id": "0415c42d-121d-448a-8c59-917d3af6a722"
      }
     }
    },
    "0f623864-5946-4f04-b5bb-b9b7a456549d": {
     "id": "0f623864-5946-4f04-b5bb-b9b7a456549d",
     "prev": "3b28a017-208e-4d2e-a7d7-649d66836563",
     "regions": {
      "f0245573-3b5d-4816-b351-72fb73118f38": {
       "attrs": {
        "height": 0.8,
        "width": 0.8,
        "x": 0.1,
        "y": 0.1
       },
       "content": {
        "cell": "42658da6-e2fc-46b5-bb18-78d280f1cd84",
        "part": "whole"
       },
       "id": "f0245573-3b5d-4816-b351-72fb73118f38"
      }
     }
    },
    "10ee96be-b813-4dfc-96cc-65f5c755a7e9": {
     "id": "10ee96be-b813-4dfc-96cc-65f5c755a7e9",
     "prev": "8f80decb-e508-4ac8-9082-63a37824d015",
     "regions": {
      "7b6a2931-ad73-4f25-a039-317956e62ed8": {
       "attrs": {
        "height": 0.8,
        "width": 0.8,
        "x": 0.1,
        "y": 0.1
       },
       "content": {
        "cell": "6a763c72-1a4c-43b5-b6d9-feab5757de44",
        "part": "whole"
       },
       "id": "7b6a2931-ad73-4f25-a039-317956e62ed8"
      }
     }
    },
    "21b89acb-8bb6-4e0c-9c44-f5570c381d8f": {
     "id": "21b89acb-8bb6-4e0c-9c44-f5570c381d8f",
     "prev": "d530419e-7d9e-40c6-9847-cd0bb9891797",
     "regions": {
      "3a7d4426-2f49-4133-aa9a-12b81866162a": {
       "attrs": {
        "height": 0.8,
        "width": 0.8,
        "x": 0.1,
        "y": 0.1
       },
       "content": {
        "cell": "3a4ae813-9b23-4516-af76-f3e969cb0fc3",
        "part": "whole"
       },
       "id": "3a7d4426-2f49-4133-aa9a-12b81866162a"
      }
     }
    },
    "2654d63b-26bc-4696-addc-63a3d33ca8d0": {
     "id": "2654d63b-26bc-4696-addc-63a3d33ca8d0",
     "prev": "cdf96887-e5f0-4a7e-a692-a2920ee279f4",
     "regions": {
      "f2d5fa69-4b31-43c8-8851-9884c4cab63d": {
       "attrs": {
        "height": 0.8,
        "width": 0.8,
        "x": 0.1,
        "y": 0.1
       },
       "content": {
        "cell": "1256630d-d487-4263-bd04-99c97fb7a6d2",
        "part": "whole"
       },
       "id": "f2d5fa69-4b31-43c8-8851-9884c4cab63d"
      }
     }
    },
    "34bfe4f5-16cd-4977-968d-e99457bcd023": {
     "id": "34bfe4f5-16cd-4977-968d-e99457bcd023",
     "prev": "bd5f1b71-41a6-42d9-a358-c3ae7ac121d5",
     "regions": {
      "70eadb9b-bdab-468d-a1b0-5e5031c9cc4f": {
       "attrs": {
        "height": 0.8,
        "width": 0.8,
        "x": 0.1,
        "y": 0.1
       },
       "content": {
        "cell": "8331d8e7-516c-44fa-aa41-c768f442c07b",
        "part": "whole"
       },
       "id": "70eadb9b-bdab-468d-a1b0-5e5031c9cc4f"
      }
     }
    },
    "3b28a017-208e-4d2e-a7d7-649d66836563": {
     "id": "3b28a017-208e-4d2e-a7d7-649d66836563",
     "prev": "a2cb6e74-2e0d-467f-87de-e1d011eac2a2",
     "regions": {
      "bf064ea8-10c9-4d44-8477-e3e4a33aae23": {
       "attrs": {
        "height": 0.8,
        "width": 0.8,
        "x": 0.1,
        "y": 0.1
       },
       "content": {
        "cell": "d96bde4c-fc11-4ac3-8f67-ea87f53318d9",
        "part": "whole"
       },
       "id": "bf064ea8-10c9-4d44-8477-e3e4a33aae23"
      }
     }
    },
    "423ef2e6-a808-4f3e-86df-76fbb36fe3e6": {
     "id": "423ef2e6-a808-4f3e-86df-76fbb36fe3e6",
     "prev": "34bfe4f5-16cd-4977-968d-e99457bcd023",
     "regions": {
      "94dc89f5-dc58-4eae-a8b7-72c213a5c3ac": {
       "attrs": {
        "height": 0.8,
        "width": 0.8,
        "x": 0.1,
        "y": 0.1
       },
       "content": {
        "cell": "7c934d22-92e1-4127-8b00-2bceab1286d3",
        "part": "whole"
       },
       "id": "94dc89f5-dc58-4eae-a8b7-72c213a5c3ac"
      }
     }
    },
    "462ffb80-42d0-4f48-8e0e-7ac483091ee3": {
     "id": "462ffb80-42d0-4f48-8e0e-7ac483091ee3",
     "prev": "ba31af1f-aeb2-4e47-82b8-4e40d965bc89",
     "regions": {
      "b77b50f0-52bd-4269-b034-02c738e61ff5": {
       "attrs": {
        "height": 0.8,
        "width": 0.8,
        "x": 0.1,
        "y": 0.1
       },
       "content": {
        "cell": "6fdda6f6-4b5a-43d0-8de0-831fe187b686",
        "part": "whole"
       },
       "id": "b77b50f0-52bd-4269-b034-02c738e61ff5"
      }
     }
    },
    "4d07d819-db14-4eac-8bdd-bdddbcc01dfd": {
     "id": "4d07d819-db14-4eac-8bdd-bdddbcc01dfd",
     "prev": "fa6f5ea1-fd80-4818-b5a5-d5ebf35a3308",
     "regions": {
      "75519d71-8126-4237-9acc-95a4b7d27dd3": {
       "attrs": {
        "height": 0.8,
        "width": 0.8,
        "x": 0.1,
        "y": 0.1
       },
       "content": {
        "cell": "3861a3a2-d485-4482-a417-3c5a8a48aa40",
        "part": "whole"
       },
       "id": "75519d71-8126-4237-9acc-95a4b7d27dd3"
      }
     }
    },
    "74c11f81-d3cb-429d-bcbd-4bf43ded805b": {
     "id": "74c11f81-d3cb-429d-bcbd-4bf43ded805b",
     "prev": "423ef2e6-a808-4f3e-86df-76fbb36fe3e6",
     "regions": {
      "ad16a2ec-e990-4164-80c0-92ef88bda47e": {
       "attrs": {
        "height": 0.8,
        "width": 0.8,
        "x": 0.1,
        "y": 0.1
       },
       "content": {
        "cell": "3a72c9af-b5d4-4b5c-b61f-116aa58bfe6c",
        "part": "whole"
       },
       "id": "ad16a2ec-e990-4164-80c0-92ef88bda47e"
      }
     }
    },
    "8f80decb-e508-4ac8-9082-63a37824d015": {
     "id": "8f80decb-e508-4ac8-9082-63a37824d015",
     "prev": "95ee6579-81c3-4e44-83c9-572f56df58a1",
     "regions": {
      "fa684e52-5d89-4106-80a8-42e8320bdee8": {
       "attrs": {
        "height": 0.8,
        "width": 0.8,
        "x": 0.1,
        "y": 0.1
       },
       "content": {
        "cell": "ae96f938-c02f-470b-b642-46f300140e2f",
        "part": "whole"
       },
       "id": "fa684e52-5d89-4106-80a8-42e8320bdee8"
      }
     }
    },
    "955ad007-000b-407b-972e-1490f2973947": {
     "id": "955ad007-000b-407b-972e-1490f2973947",
     "prev": "2654d63b-26bc-4696-addc-63a3d33ca8d0",
     "regions": {
      "056fb0f8-836b-4b85-b970-cd14c4fbf8a4": {
       "attrs": {
        "height": 0.8,
        "width": 0.8,
        "x": 0.1,
        "y": 0.1
       },
       "content": {
        "cell": "1d8a771e-0b86-49e3-b226-00540739cc93",
        "part": "whole"
       },
       "id": "056fb0f8-836b-4b85-b970-cd14c4fbf8a4"
      }
     }
    },
    "95ee6579-81c3-4e44-83c9-572f56df58a1": {
     "id": "95ee6579-81c3-4e44-83c9-572f56df58a1",
     "prev": "d15c3691-e248-4b60-ae60-1b3b24657e92",
     "regions": {
      "f11f138a-2e5a-41ab-ba40-af19c67faefb": {
       "attrs": {
        "height": 0.8,
        "width": 0.8,
        "x": 0.1,
        "y": 0.1
       },
       "content": {
        "cell": "3cae8888-07c7-45bd-94a4-d6ce89f2e49e",
        "part": "whole"
       },
       "id": "f11f138a-2e5a-41ab-ba40-af19c67faefb"
      }
     }
    },
    "a2cb6e74-2e0d-467f-87de-e1d011eac2a2": {
     "id": "a2cb6e74-2e0d-467f-87de-e1d011eac2a2",
     "prev": null,
     "regions": {
      "5e1ab4b6-443c-442b-b1aa-786d1c1afa76": {
       "attrs": {
        "height": 0.8,
        "width": 0.8,
        "x": 0.1,
        "y": 0.1
       },
       "content": {
        "cell": "395da34d-6da3-482e-8b98-6f7d2a7b8ef2",
        "part": "whole"
       },
       "id": "5e1ab4b6-443c-442b-b1aa-786d1c1afa76"
      }
     }
    },
    "ac2256c9-4232-490f-8b93-9e017834633d": {
     "id": "ac2256c9-4232-490f-8b93-9e017834633d",
     "prev": "f61a0163-6d7b-4d77-a47c-6334f420046e",
     "regions": {
      "4222a04e-6c84-4a12-94d4-9ad5b1f4c42a": {
       "attrs": {
        "height": 0.8,
        "width": 0.8,
        "x": 0.1,
        "y": 0.1
       },
       "content": {
        "cell": "3393ab89-afa8-4df0-b1bc-2aeabc07f1fd",
        "part": "whole"
       },
       "id": "4222a04e-6c84-4a12-94d4-9ad5b1f4c42a"
      }
     }
    },
    "ba31af1f-aeb2-4e47-82b8-4e40d965bc89": {
     "id": "ba31af1f-aeb2-4e47-82b8-4e40d965bc89",
     "prev": "08b323bc-23f2-499b-9339-0ecef550867f",
     "regions": {
      "e8f8466d-e893-49c9-8518-5780ea42aab9": {
       "attrs": {
        "height": 0.8,
        "width": 0.8,
        "x": 0.1,
        "y": 0.1
       },
       "content": {
        "cell": "699dd375-84ce-4678-ab20-76903bd7cdb7",
        "part": "whole"
       },
       "id": "e8f8466d-e893-49c9-8518-5780ea42aab9"
      }
     }
    },
    "bd5f1b71-41a6-42d9-a358-c3ae7ac121d5": {
     "id": "bd5f1b71-41a6-42d9-a358-c3ae7ac121d5",
     "prev": "c410244c-c46c-43e2-9d24-02607f9b2feb",
     "regions": {
      "b72fbb22-2fab-4994-91f1-39bd3413e601": {
       "attrs": {
        "height": 0.8,
        "width": 0.8,
        "x": 0.1,
        "y": 0.1
       },
       "content": {
        "cell": "c4a4a335-ab96-47d7-be8f-e729a78b210a",
        "part": "whole"
       },
       "id": "b72fbb22-2fab-4994-91f1-39bd3413e601"
      }
     }
    },
    "c410244c-c46c-43e2-9d24-02607f9b2feb": {
     "id": "c410244c-c46c-43e2-9d24-02607f9b2feb",
     "prev": "10ee96be-b813-4dfc-96cc-65f5c755a7e9",
     "regions": {
      "70781add-43a9-4887-a469-988c068d0558": {
       "attrs": {
        "height": 0.8,
        "width": 0.8,
        "x": 0.1,
        "y": 0.1
       },
       "content": {
        "cell": "03b546bd-47d5-4911-b2cf-3a75aa65a199",
        "part": "whole"
       },
       "id": "70781add-43a9-4887-a469-988c068d0558"
      }
     }
    },
    "cdf96887-e5f0-4a7e-a692-a2920ee279f4": {
     "id": "cdf96887-e5f0-4a7e-a692-a2920ee279f4",
     "prev": "462ffb80-42d0-4f48-8e0e-7ac483091ee3",
     "regions": {
      "b5945c42-0afb-4417-8d69-94b2e4c94ff2": {
       "attrs": {
        "height": 0.8,
        "width": 0.8,
        "x": 0.1,
        "y": 0.1
       },
       "content": {
        "cell": "ac8a9824-10df-4d0c-9d93-df06a044fe3f",
        "part": "whole"
       },
       "id": "b5945c42-0afb-4417-8d69-94b2e4c94ff2"
      }
     }
    },
    "d15c3691-e248-4b60-ae60-1b3b24657e92": {
     "id": "d15c3691-e248-4b60-ae60-1b3b24657e92",
     "prev": "955ad007-000b-407b-972e-1490f2973947",
     "regions": {
      "5c5711a6-9261-4968-b253-79166851778b": {
       "attrs": {
        "height": 0.8,
        "width": 0.8,
        "x": 0.1,
        "y": 0.1
       },
       "content": {
        "cell": "3e6281c9-6f5c-46b9-97ca-00fef07a43df",
        "part": "whole"
       },
       "id": "5c5711a6-9261-4968-b253-79166851778b"
      }
     }
    },
    "d530419e-7d9e-40c6-9847-cd0bb9891797": {
     "id": "d530419e-7d9e-40c6-9847-cd0bb9891797",
     "prev": "ac2256c9-4232-490f-8b93-9e017834633d",
     "regions": {
      "0d463767-df12-48b4-b482-8d44f44d534b": {
       "attrs": {
        "height": 0.8,
        "width": 0.8,
        "x": 0.1,
        "y": 0.1
       },
       "content": {
        "cell": "562a6d66-2ea1-4de9-8dc6-2cd9698f1661",
        "part": "whole"
       },
       "id": "0d463767-df12-48b4-b482-8d44f44d534b"
      }
     }
    },
    "f61a0163-6d7b-4d77-a47c-6334f420046e": {
     "id": "f61a0163-6d7b-4d77-a47c-6334f420046e",
     "prev": "74c11f81-d3cb-429d-bcbd-4bf43ded805b",
     "regions": {
      "c5563eca-0345-459f-b38b-fb1dd74cdfb1": {
       "attrs": {
        "height": 0.8,
        "width": 0.8,
        "x": 0.1,
        "y": 0.1
       },
       "content": {
        "cell": "5633be34-ef27-4a28-a864-261fcbebb97f",
        "part": "whole"
       },
       "id": "c5563eca-0345-459f-b38b-fb1dd74cdfb1"
      }
     }
    },
    "fa6f5ea1-fd80-4818-b5a5-d5ebf35a3308": {
     "id": "fa6f5ea1-fd80-4818-b5a5-d5ebf35a3308",
     "prev": "0f623864-5946-4f04-b5bb-b9b7a456549d",
     "regions": {
      "32ede794-2d90-433e-8358-05a6487a9627": {
       "attrs": {
        "height": 0.8,
        "width": 0.8,
        "x": 0.1,
        "y": 0.1
       },
       "content": {
        "cell": "e1f11a83-d04c-477a-9274-bde97f658e9f",
        "part": "whole"
       },
       "id": "32ede794-2d90-433e-8358-05a6487a9627"
      }
     }
    }
   },
   "themes": {
    "default": "bf47739b-5402-4c09-8892-fc7fa2b3fd6e",
    "theme": {
     "bf47739b-5402-4c09-8892-fc7fa2b3fd6e": {
      "backgrounds": {
       "backgroundColor": {
        "background-color": "backgroundColor",
        "id": "backgroundColor"
       }
      },
      "id": "bf47739b-5402-4c09-8892-fc7fa2b3fd6e",
      "palette": {
       "backgroundColor": {
        "id": "backgroundColor",
        "rgb": [
         43,
         43,
         43
        ]
       },
       "headingColor": {
        "id": "headingColor",
        "rgb": [
         238,
         238,
         238
        ]
       },
       "linkColor": {
        "id": "linkColor",
        "rgb": [
         19,
         218,
         236
        ]
       },
       "mainColor": {
        "id": "mainColor",
        "rgb": [
         238,
         238,
         238
        ]
       }
      },
      "rules": {
       "a": {
        "color": "linkColor"
       },
       "h1": {
        "color": "headingColor",
        "font-family": "Oswald",
        "font-size": 7
       },
       "h2": {
        "color": "headingColor",
        "font-family": "Oswald",
        "font-size": 5
       },
       "h3": {
        "color": "headingColor",
        "font-family": "Oswald",
        "font-size": 3.75
       },
       "h4": {
        "color": "headingColor",
        "font-family": "Oswald",
        "font-size": 3
       },
       "h5": {
        "color": "headingColor",
        "font-family": "Oswald"
       },
       "h6": {
        "color": "headingColor",
        "font-family": "Oswald"
       },
       "h7": {
        "color": "headingColor",
        "font-family": "Oswald"
       },
       "li": {
        "color": "mainColor",
        "font-family": "Lato",
        "font-size": 5
       },
       "p": {
        "color": "mainColor",
        "font-family": "Lato",
        "font-size": 5
       }
      },
      "text-base": {
       "color": "mainColor",
       "font-family": "Lato",
       "font-size": 5
      }
     }
    }
   }
  }
 },
 "nbformat": 4,
 "nbformat_minor": 0
}
